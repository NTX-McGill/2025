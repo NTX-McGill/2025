{
 "cells": [
  {
   "cell_type": "code",
   "execution_count": null,
   "metadata": {},
   "outputs": [],
   "source": [
    "from datasets import load_dataset,Dataset\n",
    "import torch\n",
    "import matplotlib.pyplot as plt\n",
    "import einx\n",
    "import numpy as np"
   ]
  },
  {
   "cell_type": "code",
   "execution_count": null,
   "metadata": {},
   "outputs": [],
   "source": [
    "class COCOLoader:\n",
    "\n",
    "\tdef __init__(self,\n",
    "\t\t\t  mscoco_path):\n",
    "\t\t\n",
    "\t\tself.ds = load_dataset(\"Alljoined/05_125\")\n",
    "\t\tself.mscoco = torch.load(mscoco_path)\n",
    "\n",
    "\t\tuniques = np.unique(self.ds[\"train\"][\"73k_id\"])\n",
    "\n",
    "\t\tfor i in uniques:\n",
    "\t\t\tassert i in self.mscoco[\"idx\"]\n",
    "\n",
    "\t\tself.idx_map = {}\n",
    "\n",
    "\t\tfor idx,i in enumerate(self.mscoco[\"idx\"]):\n",
    "\t\t\tself.idx_map[i] = idx\n",
    "\n",
    "\tdef to_saved_idx(self,indices,map):\n",
    "\t\treturn np.vectorize(map.get)(indices)\n",
    "\t\n",
    "\tdef get_batch(self,\n",
    "\t\t\t   indices,\n",
    "\t\t\t   split=\"train\",\n",
    "\t\t\t   label=\"embeds\"):\n",
    "\t\t\n",
    "\t\teeg = self.ds[split][indices][\"EEG\"]\n",
    "\t\tsubset_idx = self.ds[split][indices][\"73k_id\"]\n",
    "\t\timg_idx = self.to_saved_idx(subset_idx,self.idx_map)\n",
    "\t\treturn eeg,self.mscoco[label][img_idx]"
   ]
  },
  {
   "cell_type": "code",
   "execution_count": null,
   "metadata": {},
   "outputs": [],
   "source": [
    "def prep_batch(x,y):\n",
    "\tx = torch.Tensor(x)\n",
    "\ty = einx.rearrange(\"b 1 d -> b d\",y)\n",
    "\treturn x,y"
   ]
  },
  {
   "cell_type": "code",
   "execution_count": null,
   "metadata": {},
   "outputs": [],
   "source": [
    "loader = COCOLoader(\"data/alljoined1/nsd_ms_coco.pt\")"
   ]
  },
  {
   "cell_type": "code",
   "execution_count": null,
   "metadata": {},
   "outputs": [],
   "source": [
    "x,y = prep_batch(*loader.get_batch([10,278,28,290,10]))"
   ]
  },
  {
   "cell_type": "code",
   "execution_count": null,
   "metadata": {},
   "outputs": [],
   "source": [
    "x.shape"
   ]
  },
  {
   "cell_type": "code",
   "execution_count": null,
   "metadata": {},
   "outputs": [],
   "source": [
    "y.shape"
   ]
  }
 ],
 "metadata": {
  "kernelspec": {
   "display_name": "neuro",
   "language": "python",
   "name": "python3"
  },
  "language_info": {
   "codemirror_mode": {
    "name": "ipython",
    "version": 3
   },
   "file_extension": ".py",
   "mimetype": "text/x-python",
   "name": "python",
   "nbconvert_exporter": "python",
   "pygments_lexer": "ipython3",
   "version": "3.10.12"
  }
 },
 "nbformat": 4,
 "nbformat_minor": 2
}
