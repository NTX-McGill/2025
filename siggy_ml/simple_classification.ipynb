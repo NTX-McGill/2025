{
 "cells": [
  {
   "cell_type": "code",
   "execution_count": 60,
   "metadata": {},
   "outputs": [],
   "source": [
    "import os\n",
    "import re\n",
    "from data_utils.loaders import load_files\n",
    "import pandas as pd\n",
    "import numpy as np\n",
    "import einx\n",
    "import matplotlib.pyplot as plt"
   ]
  },
  {
   "cell_type": "code",
   "execution_count": 2,
   "metadata": {},
   "outputs": [],
   "source": [
    "folder = \"data/collected_data/\""
   ]
  },
  {
   "cell_type": "code",
   "execution_count": 4,
   "metadata": {},
   "outputs": [],
   "source": [
    "def load_files(folder):\n",
    "\td = {}\n",
    "\tsubjects = []\n",
    "\tfiles = os.listdir(folder)\n",
    "\tfor i in files:\n",
    "\t\tsubject = str.split(i,\"_\")[0]\n",
    "\t\tif re.fullmatch(r\"^s\\d+$\",subject):\n",
    "\t\t\tdf = pd.read_csv(os.path.join(folder,i))\n",
    "\t\t\tif subject not in d.keys():\n",
    "\t\t\t\td[subject] = [df]\n",
    "\t\t\t\tsubjects.append(subject)\n",
    "\t\t\telse:\n",
    "\t\t\t\td[subject].append(df)\n",
    "\t\telse:\n",
    "\t\t\tprint(subject)\n",
    "\tfor s in subjects:\n",
    "\t\td[s] = {\"train\":d[s][:-1],\"test\":[d[s][-1]]}\n",
    "\treturn d\n"
   ]
  },
  {
   "cell_type": "code",
   "execution_count": 5,
   "metadata": {},
   "outputs": [
    {
     "name": "stdout",
     "output_type": "stream",
     "text": [
      "BrainFlow-RAW\n"
     ]
    },
    {
     "name": "stdout",
     "output_type": "stream",
     "text": [
      "Subject information.xlsx\n"
     ]
    }
   ],
   "source": [
    "data = load_files(folder)"
   ]
  },
  {
   "cell_type": "code",
   "execution_count": 7,
   "metadata": {},
   "outputs": [],
   "source": [
    "def _get_epochs(df,\n",
    "\t\t\t\tindices,\n",
    "\t\t\t\tn_samples_baseline,\n",
    "\t\t\t\tn_samples,\n",
    "\t\t\t\tsubject_channels,\n",
    "\t\t\t\tepochs = [],):\n",
    "\t\tc = 0\n",
    "\t\tfor i in indices:\n",
    "\n",
    "\t\t\tepoch = df.loc[i-n_samples_baseline:i+n_samples][subject_channels]\n",
    "\t\t\tepochs.append(epoch)\n",
    "\t\t\tc+=1\n",
    "\n",
    "\t\treturn epochs"
   ]
  },
  {
   "cell_type": "code",
   "execution_count": 47,
   "metadata": {},
   "outputs": [],
   "source": [
    "def get_epochs(dfs,\n",
    "\t\t\t   fs,\n",
    "\t\t\t   t_epoch,\n",
    "\t\t\t   subject_channels,\n",
    "\t\t\t   labels,\n",
    "\t\t\t   t_baseline=0,):\n",
    "\t\n",
    "\tepoch_list = {i:[] for i in labels}\n",
    "\n",
    "\tn_samples = int(fs*t_epoch)\n",
    "\tn_samples_baseline = int(fs*t_baseline)\n",
    "\n",
    "\tfor df in dfs:\n",
    "\n",
    "\t\tindices = np.arange(len(df))\n",
    "\n",
    "\t\tfor i in labels:\n",
    "\t\t\tprev_0 = (df[i].shift(1) == 0)\n",
    "\t\t\tcurrent_1 = (df[i] == 1)\n",
    "\t\t\tintersection = prev_0 & current_1\n",
    "\t\t\tprint(intersection.sum())\n",
    "\n",
    "\t\t\tlabel_idx = indices[intersection]\n",
    "\t\t\tepoch_list[i] = _get_epochs(df,label_idx,n_samples_baseline,\n",
    "\t\t\t\t\t\t\t   n_samples,epochs=epoch_list[i],subject_channels=subject_channels)\n",
    "\t\t\t\n",
    "\tfor i in labels:\n",
    "\t\tepoch_list[i] = np.stack(epoch_list[i],0)\n",
    "\treturn epoch_list"
   ]
  },
  {
   "cell_type": "code",
   "execution_count": 79,
   "metadata": {},
   "outputs": [],
   "source": [
    "labels = [f\"image_{i}\" for i in range(1,5)]"
   ]
  },
  {
   "cell_type": "code",
   "execution_count": 89,
   "metadata": {},
   "outputs": [
    {
     "data": {
      "image/png": "[encoded data removed]",
      "text/plain": [
       "<Figure size 640x480 with 1 Axes>"
      ]
     },
     "metadata": {},
     "output_type": "display_data"
    }
   ],
   "source": [
    "subject = \"s1\"\n",
    "plt.plot(data[subject][\"test\"][0][\"image_0\"])\n",
    "for l in labels:\n",
    "\tplt.plot(data[subject][\"test\"][0][l],label=l)\n",
    "plt.legend()\n",
    "plt.show()"
   ]
  },
  {
   "cell_type": "code",
   "execution_count": 41,
   "metadata": {},
   "outputs": [],
   "source": [
    "def sliding_window_view(arr, window_size, step, axis):\n",
    "\tshape = arr.shape[:axis] + ((arr.shape[axis] - window_size) // step + 1, window_size) + arr.shape[axis+1:]\n",
    "\tstrides = arr.strides[:axis] + (arr.strides[axis] * step, arr.strides[axis]) + arr.strides[axis+1:]\n",
    "\tstrided = np.lib.stride_tricks.as_strided(arr, shape=shape, strides=strides)\n",
    "\treturn einx.rearrange(\"n e ... -> (n e) ...\",strided)"
   ]
  },
  {
   "cell_type": "code",
   "execution_count": 42,
   "metadata": {},
   "outputs": [],
   "source": [
    "def subject_epochs(dfs,\n",
    "\t\t\t\t   labels,\n",
    "\t\t\t\t   subject_channels,\n",
    "\t\t\t\t   stride=25,\n",
    "\t\t\t\t   epoch_length=512):\n",
    "\tepoch_list = get_epochs(dfs=dfs,\n",
    "\t\t\t\t\t\t fs=256,\n",
    "\t\t\t\t\t\t t_epoch=8,\n",
    "\t\t\t\t\t\t subject_channels=subject_channels,\n",
    "\t\t\t\t\t\t labels=labels,\n",
    "\t\t\t\t\t\t t_baseline=0)\n",
    "\t\n",
    "\txs = []\n",
    "\tys = []\n",
    "\n",
    "\tc = 0\n",
    "\n",
    "\tfor key,value in epoch_list.items():\n",
    "\t\tprint(value.shape)\n",
    "\t\tepochs = sliding_window_view(value,epoch_length,stride,1)\n",
    "\t\ty = np.ones(len(epochs))*c\n",
    "\t\txs.append(epochs)\n",
    "\t\tys.append(y)\n",
    "\n",
    "\txs = np.concatenate(xs,0)\n",
    "\tys = np.concatenate(ys,0)\n",
    "\n",
    "\treturn xs,ys"
   ]
  },
  {
   "cell_type": "code",
   "execution_count": 74,
   "metadata": {},
   "outputs": [
    {
     "name": "stdout",
     "output_type": "stream",
     "text": [
      "1\n",
      "1\n",
      "1\n",
      "1\n",
      "(1, 2049, 8)\n",
      "(1, 2049, 8)\n",
      "(1, 2049, 8)\n",
      "(1, 2049, 8)\n"
     ]
    }
   ],
   "source": [
    "x,y = subject_epochs(dfs=data[\"s1\"][\"test\"],\n",
    "\t\t\t\t   labels=[f\"image_{i}\" for i in range(4)],\n",
    "\t\t\t\t   subject_channels=[f\"ch{i}\" for i in range(1,9)],\n",
    "\t\t\t\t   stride=25,\n",
    "\t\t\t\t   epoch_length=512)"
   ]
  }
 ],
 "metadata": {
  "kernelspec": {
   "display_name": "neuro",
   "language": "python",
   "name": "python3"
  },
  "language_info": {
   "codemirror_mode": {
    "name": "ipython",
    "version": 3
   },
   "file_extension": ".py",
   "mimetype": "text/x-python",
   "name": "python",
   "nbconvert_exporter": "python",
   "pygments_lexer": "ipython3",
   "version": "3.10.12"
  }
 },
 "nbformat": 4,
 "nbformat_minor": 2
}
